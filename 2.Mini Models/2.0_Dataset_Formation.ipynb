{
 "cells": [
  {
   "cell_type": "markdown",
   "metadata": {},
   "source": [
    "### In this notebook, we'll retrieve a subset from our main dataset and write that to a csv file, so that this subset can be used in all our mini models"
   ]
  },
  {
   "cell_type": "markdown",
   "metadata": {},
   "source": [
    "Start by importing certain pickle variables that might be useful"
   ]
  },
  {
   "cell_type": "code",
   "execution_count": 1,
   "metadata": {},
   "outputs": [],
   "source": [
    "import pickle\n",
    "def writePickle(Variable, fname):\n",
    "    filename = fname +\".pkl\"\n",
    "    f = open(\"pickle_vars/\"+filename, 'wb')\n",
    "    pickle.dump(Variable, f)\n",
    "    f.close()\n",
    "def readPickle(fname):\n",
    "    filename = \"pickle_vars/\"+fname +\".pkl\"\n",
    "    f = open(filename, 'rb')\n",
    "    obj = pickle.load(f)\n",
    "    f.close()\n",
    "    return obj\n",
    "def readPicklePast(fname):\n",
    "    filename = \"../pickle_vars/\"+fname +\".pkl\"\n",
    "    f = open(filename, 'rb')\n",
    "    obj = pickle.load(f)\n",
    "    f.close()\n",
    "    return obj"
   ]
  },
  {
   "cell_type": "code",
   "execution_count": 2,
   "metadata": {},
   "outputs": [],
   "source": [
    "EN_PRGE_metadata_dict = readPicklePast(\"EN_PRGE_metadata_dict\") # metadata dataset for english only songs with raw and projeted genre labels\n",
    "children_to_parent_genre_dict = readPicklePast(\"children_to_parent_genre_dict\") # a dictionary that maps all children genre labels to parent genre labels"
   ]
  },
  {
   "cell_type": "markdown",
   "metadata": {},
   "source": [
    "We aim to form a sub-dataset that have the following properties: <br>\n",
    "- It will have 10 artists from each parent genre\n",
    "- The parent genre set will exclude 'Rest', and include all the remaining genres (i.e 'Reggae', 'R&B', 'Punk', 'Pop', 'Blues', 'Folk', '(Electronic) Dance', 'Jazz', 'Heavy Metal', 'Country', 'Rock', 'Hip Hop' and 'Gospel&Religious')\n",
    "- Each artist will have a total of 100 song lyrics. This set of 100 lyrics will be allocated as 80-10-10 for the training, evaluation and test sets respectively."
   ]
  },
  {
   "cell_type": "markdown",
   "metadata": {},
   "source": [
    "Let's start by collecting each entry (object or instance) in the dataset under a dictionary with the following example structure: <br>\n",
    "dict = { 'parent_genre_1' : {'artist_name_1' : [object_id_1, object_id_2, ..., object_id_i], 'artist_name_2' : [object_id_j, ..., object_id_k], ... }, <br>\n",
    "&emsp;&emsp;&emsp; 'parent_genre_2' : {'artist_name_10' : [object_id_l, object_id_m, ..., object_id_p], 'artist_name_11' : [object_id_q, ..., object_id_t], ... }, <br>\n",
    "&emsp;&emsp;&emsp; 'parent_genre_3'...}"
   ]
  },
  {
   "cell_type": "code",
   "execution_count": 3,
   "metadata": {},
   "outputs": [],
   "source": [
    "parent_genre_collection_dict = dict()\n",
    "for parent_genre_label in list(set(list(children_to_parent_genre_dict.values()))):\n",
    "    parent_genre_collection_dict[parent_genre_label] = dict()\n",
    "del parent_genre_collection_dict['Rest'] # we'll discard the 'Rest' genre\n",
    "\n",
    "for object_id, metadata in EN_PRGE_metadata_dict.items():\n",
    "    genre = metadata[1]\n",
    "    artist_name = metadata[2]\n",
    "    parent_genre = children_to_parent_genre_dict[genre]\n",
    "    if parent_genre == 'Rest':\n",
    "        pass\n",
    "    else:\n",
    "        try:\n",
    "            parent_genre_collection_dict[parent_genre][artist_name].append(object_id)\n",
    "        except:\n",
    "            parent_genre_collection_dict[parent_genre][artist_name] = list()\n",
    "            parent_genre_collection_dict[parent_genre][artist_name].append(object_id)\n",
    "\n"
   ]
  },
  {
   "cell_type": "code",
   "execution_count": 4,
   "metadata": {
    "scrolled": true
   },
   "outputs": [
    {
     "name": "stdout",
     "output_type": "stream",
     "text": [
      "['ObjectId(5714dedb25ac0d8aee4ad800)', 'ObjectId(5714dedb25ac0d8aee4ad802)', 'ObjectId(5714dedb25ac0d8aee4ad803)', 'ObjectId(5714dedb25ac0d8aee4ad806)', 'ObjectId(5714dedb25ac0d8aee4ad807)', 'ObjectId(5714dedb25ac0d8aee4ad808)', 'ObjectId(5714dedb25ac0d8aee4ad809)', 'ObjectId(5714dedb25ac0d8aee4ad80e)', 'ObjectId(5714dedb25ac0d8aee4ad80f)', 'ObjectId(5714dedb25ac0d8aee4ad812)', 'ObjectId(5714dedb25ac0d8aee4ad813)', 'ObjectId(5714dedb25ac0d8aee4ad814)', 'ObjectId(5714dedb25ac0d8aee4ad816)', 'ObjectId(5714dedb25ac0d8aee4ad818)', 'ObjectId(5714dedb25ac0d8aee4ad81a)', 'ObjectId(5714dedb25ac0d8aee4ad81b)', 'ObjectId(5714dedb25ac0d8aee4ad81d)', 'ObjectId(5714dedb25ac0d8aee4ad81e)', 'ObjectId(5714dedb25ac0d8aee4ad822)', 'ObjectId(5714dedb25ac0d8aee4ad824)', 'ObjectId(5714dedb25ac0d8aee4ad825)', 'ObjectId(5714dedb25ac0d8aee4ad826)', 'ObjectId(5714dedb25ac0d8aee4ad829)', 'ObjectId(5714dedb25ac0d8aee4ad82d)', 'ObjectId(5714dedb25ac0d8aee4ad82f)', 'ObjectId(5714dedb25ac0d8aee4ad830)', 'ObjectId(5714dedb25ac0d8aee4ad831)', 'ObjectId(5714dedb25ac0d8aee4ad832)', 'ObjectId(5714dedb25ac0d8aee4ad834)', 'ObjectId(5714dedb25ac0d8aee4ad835)', 'ObjectId(5714dedb25ac0d8aee4ad837)', 'ObjectId(5714dedb25ac0d8aee4ad838)', 'ObjectId(5714dedb25ac0d8aee4ad83d)', 'ObjectId(5714dedb25ac0d8aee4ad83e)', 'ObjectId(5714dedb25ac0d8aee4ad841)', 'ObjectId(5714dedb25ac0d8aee4ad843)', 'ObjectId(5714dedb25ac0d8aee4ad845)', 'ObjectId(5714dedb25ac0d8aee4ad846)', 'ObjectId(5714dedb25ac0d8aee4ad849)', 'ObjectId(5714dedb25ac0d8aee4ad84a)', 'ObjectId(5714dedb25ac0d8aee4ad84b)', 'ObjectId(5714dedb25ac0d8aee4ad84c)', 'ObjectId(5714dedb25ac0d8aee4ad84d)', 'ObjectId(5714dedb25ac0d8aee4ad84e)', 'ObjectId(5714dedb25ac0d8aee4ad84f)', 'ObjectId(5714dedb25ac0d8aee4ad850)', 'ObjectId(5714dedb25ac0d8aee4ad86c)', 'ObjectId(5714dedb25ac0d8aee4ad870)', 'ObjectId(5714dedb25ac0d8aee4ad871)', 'ObjectId(5714dedb25ac0d8aee4ad872)', 'ObjectId(5714dedb25ac0d8aee4ad873)', 'ObjectId(5714dedb25ac0d8aee4ad874)', 'ObjectId(5714dedb25ac0d8aee4ad875)', 'ObjectId(5714dedb25ac0d8aee4ad877)', 'ObjectId(5714dedb25ac0d8aee4ad878)', 'ObjectId(5714dedb25ac0d8aee4ad879)', 'ObjectId(5714dedb25ac0d8aee4ad87a)', 'ObjectId(5714dedb25ac0d8aee4ad87f)', 'ObjectId(5714dedb25ac0d8aee4ad883)', 'ObjectId(5714dedb25ac0d8aee4ad884)', 'ObjectId(5714dedb25ac0d8aee4ad885)', 'ObjectId(5714dedb25ac0d8aee4ad886)', 'ObjectId(5714dedb25ac0d8aee4ad887)', 'ObjectId(5714dedb25ac0d8aee4ad888)', 'ObjectId(5714dedb25ac0d8aee4ad88a)', 'ObjectId(5714dedb25ac0d8aee4ad88c)', 'ObjectId(5714dedb25ac0d8aee4ad8a8)', 'ObjectId(5714dedb25ac0d8aee4ad8b7)', 'ObjectId(5714dedb25ac0d8aee4ad8c0)', 'ObjectId(5714dedb25ac0d8aee4ad8c1)', 'ObjectId(5714dedb25ac0d8aee4ad8c2)', 'ObjectId(5714dedb25ac0d8aee4ad8c5)', 'ObjectId(5714dedb25ac0d8aee4ad8ce)', 'ObjectId(5714dedb25ac0d8aee4ad8d1)', 'ObjectId(5714dedb25ac0d8aee4ad8d2)', 'ObjectId(5714dedb25ac0d8aee4ad8d6)', 'ObjectId(5714dedb25ac0d8aee4ad8d7)', 'ObjectId(5714dedb25ac0d8aee4ad8d9)']\n"
     ]
    }
   ],
   "source": [
    "# an example\n",
    "print(parent_genre_collection_dict[\"Heavy Metal\"][\"Metallica\"])"
   ]
  },
  {
   "cell_type": "markdown",
   "metadata": {},
   "source": [
    "For each parent genre category, find the list of artists that have more than 100 songs:"
   ]
  },
  {
   "cell_type": "code",
   "execution_count": 5,
   "metadata": {},
   "outputs": [],
   "source": [
    "_100_plus = dict()\n",
    "for parent_genre_label in list(set(list(children_to_parent_genre_dict.values()))):\n",
    "    _100_plus[parent_genre_label] = list()\n",
    "del _100_plus['Rest'] # we'll discard the 'Rest' genre\n",
    "\n",
    "for parent_genre, artists in parent_genre_collection_dict.items():\n",
    "    for artist in artists.keys():\n",
    "        if len(artists[artist]) >= 100:\n",
    "            _100_plus[parent_genre].append(artist)\n",
    "    "
   ]
  },
  {
   "cell_type": "code",
   "execution_count": 6,
   "metadata": {},
   "outputs": [
    {
     "name": "stdout",
     "output_type": "stream",
     "text": [
      "Country has 113 artists with more than 100 songs in the dataset.\n",
      "\n",
      "Jazz has 10 artists with more than 100 songs in the dataset.\n",
      "\n",
      "(Electronic) Dance has 17 artists with more than 100 songs in the dataset.\n",
      "\n",
      "Pop has 64 artists with more than 100 songs in the dataset.\n",
      "\n",
      "Rock has 250 artists with more than 100 songs in the dataset.\n",
      "\n",
      "Folk has 29 artists with more than 100 songs in the dataset.\n",
      "\n",
      "Heavy Metal has 71 artists with more than 100 songs in the dataset.\n",
      "\n",
      "Punk has 43 artists with more than 100 songs in the dataset.\n",
      "\n",
      "Blues has 21 artists with more than 100 songs in the dataset.\n",
      "\n",
      "Reggae has 8 artists with more than 100 songs in the dataset.\n",
      "\n",
      "Gospel&Religious has 24 artists with more than 100 songs in the dataset.\n",
      "\n",
      "Hip Hop has 102 artists with more than 100 songs in the dataset.\n",
      "\n",
      "R&B has 48 artists with more than 100 songs in the dataset.\n",
      "\n"
     ]
    }
   ],
   "source": [
    "for genre_label, artist_list in _100_plus.items():\n",
    "    print(genre_label, \"has\", len(artist_list), \"artists with more than 100 songs in the dataset.\\n\")"
   ]
  },
  {
   "cell_type": "markdown",
   "metadata": {},
   "source": [
    "According to our analysis of genre labels and artists, 'Reggae' cannot comply with our criteria of having 10 artists with at least 100 songs each. Therefore: <br>\n",
    "1- We'll remove 'Reggae' and work with the remaining genre labels <br>\n",
    "2- For each remaining genre label, we'll randomly select 10 artists from the set of all artists available <br>\n",
    "3- For each artist, we'll randomly select 100 songs (instances) each, and form out subset"
   ]
  },
  {
   "cell_type": "code",
   "execution_count": 7,
   "metadata": {},
   "outputs": [],
   "source": [
    "# remove 'Reggae'\n",
    "del _100_plus['Reggae']"
   ]
  },
  {
   "cell_type": "code",
   "execution_count": 8,
   "metadata": {},
   "outputs": [
    {
     "name": "stdout",
     "output_type": "stream",
     "text": [
      "The final list of song_ids will have 12000 items.\n"
     ]
    }
   ],
   "source": [
    "import random\n",
    "\n",
    "subset_song_id_list = list() # a list for all the song (object) ids that will be evaluated in the model\n",
    "\n",
    "for genre_label, artist_list in _100_plus.items():\n",
    "    # for each genre label, select a list of ten artists randomly\n",
    "    random_10_list = random.sample(artist_list, 10)\n",
    "    # then for each (genre_label, artist) combination, select 100 songs randomly\n",
    "    for artist in random_10_list:\n",
    "        song_id_list = random.sample(parent_genre_collection_dict[genre_label][artist],100)\n",
    "        # append the items in this 100-song selection to a more comprehensive list\n",
    "        subset_song_id_list.extend(song_id_list)\n",
    "print(\"The final list of song_ids will have\", len(subset_song_id_list), \"items.\")"
   ]
  },
  {
   "cell_type": "markdown",
   "metadata": {},
   "source": [
    "To finalize our subset, let's form a dictionary that takes song_id's as its keys, and a list of ['artist_name', 'genre', 'lyrics'] as its values."
   ]
  },
  {
   "cell_type": "code",
   "execution_count": 9,
   "metadata": {},
   "outputs": [],
   "source": [
    "sub_dataset = dict()\n",
    "for song_id in subset_song_id_list:\n",
    "    sub_dataset[song_id] = [EN_PRGE_metadata_dict[song_id][2], \\\n",
    "                            children_to_parent_genre_dict[EN_PRGE_metadata_dict[song_id][1]], EN_PRGE_metadata_dict[song_id][5]]"
   ]
  },
  {
   "cell_type": "code",
   "execution_count": 10,
   "metadata": {},
   "outputs": [
    {
     "name": "stdout",
     "output_type": "stream",
     "text": [
      "[('ObjectId(5714dece25ac0d8aee40e3cc)', ['Ella Fitzgerald', 'Jazz', 'Away in a manger, no crib for a bed\\nThe little Lord Jesus laid down His sweet head\\nThe stars in the sky look down where He lay\\nThe little Lord Jesus asleep on the hay\\n\\nBe near me Lord Jesus, I ask Thee to stay\\nClose by me forever and love me, I pray\\nBless all the dear children in Thy tender care\\nAnd fit us for heaven to live with Thee there']), ('ObjectId(5714dece25ac0d8aee40e1f1)', ['Ella Fitzgerald', 'Jazz', \"Sing Hallelujah, Hallelujah\\nAnd you'll shoo the blues away\\nCares pursue ya, Hallelujah\\nGets you through the darkest day\\n\\nSatan lies a-waitin'\\nAnd creatin' skies of gray\\nBut Hallelujah, Hallelujah\\nHelps to shoo the clouds away\\n\\nI recall in times when I was small\\nIn light and free Jubilee days\\nIn that sunny land of milk and honey\\nI had no complaints while I thought of saints\\nSo I say to all who fearful are\\n\\nSing Hallelujah, Hallelujah\\nAnd you'll shoo the blues away\\nWhen cares pursue ya, Hallelujah\\nGets you through the darkest day\\n\\nSatan lies a-waitin'\\nAnd creatin' skies of gray\\nBut Hallelujah, Hallelujah\\nHelps to shoo the clouds away\\n\\nUp at dawn and hit the deck\\nPut out your chest and straighten your neck\\nGotta be clean without a speck\\nTonight the admiral's comin' to check\\n\\nHere this! Here that\\nShine your shoes and square your hat\\nThey'll give 'ya the boot if 'ya don't salute\\nHup one two\\n\\nSatan lies a-waitin'\\nAnd creatin' skies of gray\\nBut Hallelujah, sing Hallelujah\\nHelps to shoo the clouds away\\n\\nSing Hallelujah\"]), ('ObjectId(5714dece25ac0d8aee40e26c)', ['Ella Fitzgerald', 'Jazz', 'Why am I sitting alone tonight\\nWhen I could be out where the lights are bright?\\nIt\\'s all because of Jim, It\\'s all because of Jim\\n\\nWhy am I wasting these precios years?\\nWhy am I crying these bitter tears?\\nIt\\'s all because of Jim, It\\'s all because of Jim\\n\\nJim doesn\\'t ever bring me pretty flowers\\nJim never tries to cheer my lonely hours\\nDon\\'t know why I\\'m so crazy for Jim\\n\\nJim never tells me I\\'m his hearts desire\\nI never seem to set his love afire\\nGone are the years I\\'ve wasted on him\\n\\nSometimes when I get feeling low\\nI say \"Let\\'s call it quits\"\\nThen I hang on and let him go\\nBreaking my heart in bits\\nSome day I know tht Jim will up and leave me\\nBut even if he does you can believe me\\nI\\'ll go on carrying the torch for Jim'])]\n"
     ]
    }
   ],
   "source": [
    "# some examples\n",
    "print(list(sub_dataset.items())[1100:1103])"
   ]
  },
  {
   "cell_type": "code",
   "execution_count": 11,
   "metadata": {},
   "outputs": [],
   "source": [
    "# write the sub_dataset dictionary to a pickle file\n",
    "writePickle(sub_dataset, \"sub_dataset\")"
   ]
  },
  {
   "cell_type": "markdown",
   "metadata": {},
   "source": [
    "From this moment on, we'll convert our dictionary to a csv file"
   ]
  },
  {
   "cell_type": "code",
   "execution_count": 12,
   "metadata": {},
   "outputs": [],
   "source": [
    "sub_dataset = readPickle(\"sub_dataset\")"
   ]
  },
  {
   "cell_type": "code",
   "execution_count": 13,
   "metadata": {},
   "outputs": [],
   "source": [
    "# start with a dictionary that maps ids to lyrics\n",
    "ids2lyrics = dict((ids, info[2]) for ids, info in sub_dataset.items())"
   ]
  },
  {
   "cell_type": "code",
   "execution_count": 14,
   "metadata": {},
   "outputs": [],
   "source": [
    "# collect two separate lists of unique artist and genre labels\n",
    "unique_artist_list = sorted(list(set(list(info[0] for info in sub_dataset.values()))))\n",
    "unique_genre_list = sorted(list(set(list(info[1] for info in sub_dataset.values()))))\n",
    "\n",
    "# create 2 dictionaries that map artist_labels to integer values, and vice versa\n",
    "artist2id = dict((a, i+1) for i, a in enumerate(unique_artist_list))\n",
    "id2artist = dict((i+1, a) for i, a in enumerate(unique_artist_list))\n",
    "\n",
    "# the same for genre_labels\n",
    "genre2id = dict((a, i+1) for i, a in enumerate(unique_genre_list))\n",
    "id2genre = dict((i+1, a) for i, a in enumerate(unique_genre_list))"
   ]
  },
  {
   "cell_type": "code",
   "execution_count": 18,
   "metadata": {},
   "outputs": [],
   "source": [
    "writePickle(artist2id, \"artist2id\")\n",
    "writePickle(id2artist, \"id2artist\")\n",
    "writePickle(genre2id, \"genre2id\")\n",
    "writePickle(id2genre, \"id2genre\")"
   ]
  },
  {
   "cell_type": "code",
   "execution_count": 15,
   "metadata": {},
   "outputs": [],
   "source": [
    "# continue with another dictionary that maps artist labels to a list of her song_ids in the dataset\n",
    "artist_to_song_ids = dict((artist, []) for artist in unique_artist_list)\n",
    "for ids, info in sub_dataset.items():\n",
    "    artist_to_song_ids[info[0]].append(ids)"
   ]
  },
  {
   "cell_type": "markdown",
   "metadata": {},
   "source": [
    "Now, we'll use a function to write our complete sub-dataset into a csv file. <br>\n",
    "The format of this csv will be like: artist_label_index, genre_label_index, lyrics"
   ]
  },
  {
   "cell_type": "code",
   "execution_count": 16,
   "metadata": {},
   "outputs": [],
   "source": [
    "import csv\n",
    "\n",
    "# training csv file\n",
    "#with open('train.csv', 'w', newline='') as file:\n",
    "with open('sub_dataset.csv', 'w', newline='') as file:\n",
    "    writer = csv.writer(file)\n",
    "    for artist_label, id_list in artist_to_song_ids.items():\n",
    "        for ids in id_list:\n",
    "            writer.writerow([artist2id[artist_label],genre2id[sub_dataset[ids][1]], ids2lyrics[ids]])\n"
   ]
  },
  {
   "cell_type": "code",
   "execution_count": 17,
   "metadata": {},
   "outputs": [
    {
     "name": "stderr",
     "output_type": "stream",
     "text": [
      "Using TensorFlow backend.\n"
     ]
    }
   ],
   "source": [
    "# In other files, for retrieving the complete sub_dataset from the csv file above, use the following helper function\n",
    "\n",
    "import string\n",
    "import numpy as np\n",
    "import pandas as pd\n",
    "from keras.utils.np_utils import to_categorical\n",
    "\n",
    "def load_data():\n",
    "    \n",
    "    data = pd.read_csv('sub_dataset.csv', header=None)\n",
    "    data = data.dropna()\n",
    "\n",
    "    x = data[2]\n",
    "    x = np.array(x)\n",
    "\n",
    "    y_artist = data[0] - 1\n",
    "    y_artist = to_categorical(y_artist)\n",
    "    \n",
    "    y_genre = data[1] - 1\n",
    "    y_genre = to_categorical(y_genre)\n",
    "    \n",
    "    return (x, y_artist, y_genre)"
   ]
  },
  {
   "cell_type": "code",
   "execution_count": null,
   "metadata": {},
   "outputs": [],
   "source": []
  }
 ],
 "metadata": {
  "kernelspec": {
   "display_name": "Python 3",
   "language": "python",
   "name": "python3"
  },
  "language_info": {
   "codemirror_mode": {
    "name": "ipython",
    "version": 3
   },
   "file_extension": ".py",
   "mimetype": "text/x-python",
   "name": "python",
   "nbconvert_exporter": "python",
   "pygments_lexer": "ipython3",
   "version": "3.6.8"
  }
 },
 "nbformat": 4,
 "nbformat_minor": 2
}
